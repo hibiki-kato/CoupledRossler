{
 "cells": [
  {
   "cell_type": "code",
   "execution_count": 46,
   "metadata": {},
   "outputs": [],
   "source": [
    "import numpy as np\n",
    "import matplotlib.pyplot as plt"
   ]
  },
  {
   "cell_type": "code",
   "execution_count": 25,
   "metadata": {},
   "outputs": [],
   "source": [
    "a = np.load(\"../sync/sync_epsilon0.037_a0.165_c10_f0.2_dt0.01_t1e+06_dump0_omega0.95-0.99_100000window.npy\")\n",
    "# np.save(\"../initials/epsilon0.037_a0.165_c10_f0.2_omega0.95-0.99_t1000.npy\", a[:-1, 0])"
   ]
  }
 ],
 "metadata": {
  "kernelspec": {
   "display_name": "Python 3 (ipykernel)",
   "language": "python",
   "name": "python3"
  }
 },
 "nbformat": 4,
 "nbformat_minor": 2
}
