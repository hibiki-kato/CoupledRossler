{
 "cells": [
  {
   "cell_type": "code",
   "execution_count": null,
   "metadata": {},
   "outputs": [],
   "source": [
    "import numpy as np\n",
    "import matplotlib.pyplot as plt\n",
    "import matplotlib.animation as animation\n",
    "from IPython.display import HTML\n",
    "\n",
    "%matplotlib inline"
   ]
  },
  {
   "cell_type": "markdown",
   "metadata": {},
   "source": [
    "## 読み込み"
   ]
  },
  {
   "cell_type": "code",
   "execution_count": null,
   "metadata": {},
   "outputs": [],
   "source": [
    "traj = np.load(\"../traj/epsilon0.038_a0.165_c10_f0.2_dt0.01_t10000_dump1000_omega(0.95,0.99).npy\")"
   ]
  },
  {
   "cell_type": "markdown",
   "metadata": {},
   "source": [
    "## 相空間(2つ)"
   ]
  },
  {
   "cell_type": "code",
   "execution_count": null,
   "metadata": {},
   "outputs": [],
   "source": [
    "#3dプロット\n",
    "fig = plt.figure(dpi=600)\n",
    "ax1 = fig.add_subplot(121, projection='3d')\n",
    "ax1.plot(traj[0, :], traj[1, :], traj[2, :], lw=0.1)\n",
    "# ax1.set_zlim(0, 10)\n",
    "ax2 = fig.add_subplot(122, projection='3d')\n",
    "ax2.plot(traj[3, :], traj[4, :], traj[5, :], lw=0.1)\n",
    "plt.show()\n"
   ]
  },
  {
   "cell_type": "markdown",
   "metadata": {},
   "source": [
    "## 相空間(２つ)　z軸回転アニメーション"
   ]
  },
  {
   "cell_type": "code",
   "execution_count": null,
   "metadata": {},
   "outputs": [],
   "source": [
    "# Create the figure and subplots\n",
    "fig = plt.figure(figsize=(12, 5))\n",
    "ax1 = fig.add_subplot(121, projection='3d')\n",
    "ax2 = fig.add_subplot(122, projection='3d')\n",
    "\n",
    "# Plot the data\n",
    "line1, = ax1.plot(traj[0, :], traj[1, :], traj[2, :], lw=0.1)\n",
    "line2, = ax2.plot(traj[3, :], traj[4, :], traj[5, :], lw=0.1)\n",
    "\n",
    "# Function to update the plot for each frame\n",
    "def update(frame):\n",
    "    ax1.view_init(elev=30, azim=frame)  # Rotate around z-axis\n",
    "    ax2.view_init(elev=30, azim=frame)  # Rotate around z-axis\n",
    "\n",
    "# Create the animation\n",
    "ani = animation.FuncAnimation(fig, update, frames=range(0, 360, 20), interval=100)\n",
    "# ani.save('animation.mp4', writer='ffmpeg', fps=30)\n",
    "HTML(ani.to_jshtml())"
   ]
  }
 ],
 "metadata": {
  "kernelspec": {
   "display_name": "Python 3 (ipykernel)",
   "language": "python",
   "name": "python3"
  }
 },
 "nbformat": 4,
 "nbformat_minor": 2
}
